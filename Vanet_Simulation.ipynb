{
 "cells": [
  {
   "cell_type": "code",
   "execution_count": 28,
   "metadata": {},
   "outputs": [],
   "source": [
    "import pandas as pd\n",
    "import matplotlib.pyplot as plt\n",
    "import logging \n",
    "from mpl_toolkits.mplot3d import Axes3D\n",
    "from scipy.spatial import distance\n",
    "from collections import defaultdict\n",
    "from math import sqrt\n",
    "from multiprocessing.dummy import Pool as ThreadPool \n",
    "import numpy as np\n",
    "from vanet_tools import plot_microclouds,Block,Node,Microcloud"
   ]
  },
  {
   "cell_type": "code",
   "execution_count": 29,
   "metadata": {
    "scrolled": false
   },
   "outputs": [
    {
     "data": {
      "text/html": [
       "<div>\n",
       "<style scoped>\n",
       "    .dataframe tbody tr th:only-of-type {\n",
       "        vertical-align: middle;\n",
       "    }\n",
       "\n",
       "    .dataframe tbody tr th {\n",
       "        vertical-align: top;\n",
       "    }\n",
       "\n",
       "    .dataframe thead th {\n",
       "        text-align: right;\n",
       "    }\n",
       "</style>\n",
       "<table border=\"1\" class=\"dataframe\">\n",
       "  <thead>\n",
       "    <tr style=\"text-align: right;\">\n",
       "      <th></th>\n",
       "      <th>timestep_time</th>\n",
       "      <th>vehicle_angle</th>\n",
       "      <th>vehicle_id</th>\n",
       "      <th>vehicle_lane</th>\n",
       "      <th>vehicle_pos</th>\n",
       "      <th>vehicle_slope</th>\n",
       "      <th>vehicle_speed</th>\n",
       "      <th>vehicle_type</th>\n",
       "      <th>vehicle_x</th>\n",
       "      <th>vehicle_y</th>\n",
       "    </tr>\n",
       "  </thead>\n",
       "  <tbody>\n",
       "    <tr>\n",
       "      <th>1</th>\n",
       "      <td>1.0</td>\n",
       "      <td>0.0</td>\n",
       "      <td>from0.0</td>\n",
       "      <td>0_0</td>\n",
       "      <td>5.1</td>\n",
       "      <td>0.0</td>\n",
       "      <td>0.0</td>\n",
       "      <td>SUMO_DEFAULT_TYPE</td>\n",
       "      <td>1.65</td>\n",
       "      <td>8.35</td>\n",
       "    </tr>\n",
       "    <tr>\n",
       "      <th>2</th>\n",
       "      <td>2.0</td>\n",
       "      <td>0.0</td>\n",
       "      <td>from0.0</td>\n",
       "      <td>0_0</td>\n",
       "      <td>5.9</td>\n",
       "      <td>0.0</td>\n",
       "      <td>0.8</td>\n",
       "      <td>SUMO_DEFAULT_TYPE</td>\n",
       "      <td>1.65</td>\n",
       "      <td>9.15</td>\n",
       "    </tr>\n",
       "    <tr>\n",
       "      <th>3</th>\n",
       "      <td>2.0</td>\n",
       "      <td>90.0</td>\n",
       "      <td>from1.0</td>\n",
       "      <td>1_0</td>\n",
       "      <td>5.1</td>\n",
       "      <td>0.0</td>\n",
       "      <td>0.0</td>\n",
       "      <td>SUMO_DEFAULT_TYPE</td>\n",
       "      <td>8.35</td>\n",
       "      <td>498.35</td>\n",
       "    </tr>\n",
       "    <tr>\n",
       "      <th>4</th>\n",
       "      <td>3.0</td>\n",
       "      <td>0.0</td>\n",
       "      <td>from0.0</td>\n",
       "      <td>0_0</td>\n",
       "      <td>7.5</td>\n",
       "      <td>0.0</td>\n",
       "      <td>1.6</td>\n",
       "      <td>SUMO_DEFAULT_TYPE</td>\n",
       "      <td>1.65</td>\n",
       "      <td>10.75</td>\n",
       "    </tr>\n",
       "    <tr>\n",
       "      <th>5</th>\n",
       "      <td>3.0</td>\n",
       "      <td>90.0</td>\n",
       "      <td>from1.0</td>\n",
       "      <td>1_0</td>\n",
       "      <td>5.9</td>\n",
       "      <td>0.0</td>\n",
       "      <td>0.8</td>\n",
       "      <td>SUMO_DEFAULT_TYPE</td>\n",
       "      <td>9.15</td>\n",
       "      <td>498.35</td>\n",
       "    </tr>\n",
       "  </tbody>\n",
       "</table>\n",
       "</div>"
      ],
      "text/plain": [
       "   timestep_time  vehicle_angle vehicle_id vehicle_lane  vehicle_pos  \\\n",
       "1            1.0            0.0    from0.0          0_0          5.1   \n",
       "2            2.0            0.0    from0.0          0_0          5.9   \n",
       "3            2.0           90.0    from1.0          1_0          5.1   \n",
       "4            3.0            0.0    from0.0          0_0          7.5   \n",
       "5            3.0           90.0    from1.0          1_0          5.9   \n",
       "\n",
       "   vehicle_slope  vehicle_speed       vehicle_type  vehicle_x  vehicle_y  \n",
       "1            0.0            0.0  SUMO_DEFAULT_TYPE       1.65       8.35  \n",
       "2            0.0            0.8  SUMO_DEFAULT_TYPE       1.65       9.15  \n",
       "3            0.0            0.0  SUMO_DEFAULT_TYPE       8.35     498.35  \n",
       "4            0.0            1.6  SUMO_DEFAULT_TYPE       1.65      10.75  \n",
       "5            0.0            0.8  SUMO_DEFAULT_TYPE       9.15     498.35  "
      ]
     },
     "execution_count": 29,
     "metadata": {},
     "output_type": "execute_result"
    }
   ],
   "source": [
    "df = pd.read_csv(\"sumo_out.csv\",delimiter=\";\").dropna()\n",
    "df.head()"
   ]
  },
  {
   "cell_type": "code",
   "execution_count": 30,
   "metadata": {},
   "outputs": [],
   "source": [
    "car_groups = df.sort_values(by='timestep_time').groupby('vehicle_id')"
   ]
  },
  {
   "cell_type": "code",
   "execution_count": 31,
   "metadata": {},
   "outputs": [],
   "source": [
    "cars = df['vehicle_id'].unique()"
   ]
  },
  {
   "cell_type": "code",
   "execution_count": 32,
   "metadata": {
    "scrolled": true
   },
   "outputs": [
    {
     "data": {
      "text/html": [
       "<div>\n",
       "<style scoped>\n",
       "    .dataframe tbody tr th:only-of-type {\n",
       "        vertical-align: middle;\n",
       "    }\n",
       "\n",
       "    .dataframe tbody tr th {\n",
       "        vertical-align: top;\n",
       "    }\n",
       "\n",
       "    .dataframe thead th {\n",
       "        text-align: right;\n",
       "    }\n",
       "</style>\n",
       "<table border=\"1\" class=\"dataframe\">\n",
       "  <thead>\n",
       "    <tr style=\"text-align: right;\">\n",
       "      <th></th>\n",
       "      <th>timestep_time</th>\n",
       "      <th>vehicle_angle</th>\n",
       "      <th>vehicle_id</th>\n",
       "      <th>vehicle_lane</th>\n",
       "      <th>vehicle_pos</th>\n",
       "      <th>vehicle_slope</th>\n",
       "      <th>vehicle_speed</th>\n",
       "      <th>vehicle_type</th>\n",
       "      <th>vehicle_x</th>\n",
       "      <th>vehicle_y</th>\n",
       "    </tr>\n",
       "  </thead>\n",
       "  <tbody>\n",
       "    <tr>\n",
       "      <th>1</th>\n",
       "      <td>1.0</td>\n",
       "      <td>0.0</td>\n",
       "      <td>from0.0</td>\n",
       "      <td>0_0</td>\n",
       "      <td>5.1</td>\n",
       "      <td>0.0</td>\n",
       "      <td>0.0</td>\n",
       "      <td>SUMO_DEFAULT_TYPE</td>\n",
       "      <td>1.65</td>\n",
       "      <td>8.35</td>\n",
       "    </tr>\n",
       "    <tr>\n",
       "      <th>2</th>\n",
       "      <td>2.0</td>\n",
       "      <td>0.0</td>\n",
       "      <td>from0.0</td>\n",
       "      <td>0_0</td>\n",
       "      <td>5.9</td>\n",
       "      <td>0.0</td>\n",
       "      <td>0.8</td>\n",
       "      <td>SUMO_DEFAULT_TYPE</td>\n",
       "      <td>1.65</td>\n",
       "      <td>9.15</td>\n",
       "    </tr>\n",
       "    <tr>\n",
       "      <th>4</th>\n",
       "      <td>3.0</td>\n",
       "      <td>0.0</td>\n",
       "      <td>from0.0</td>\n",
       "      <td>0_0</td>\n",
       "      <td>7.5</td>\n",
       "      <td>0.0</td>\n",
       "      <td>1.6</td>\n",
       "      <td>SUMO_DEFAULT_TYPE</td>\n",
       "      <td>1.65</td>\n",
       "      <td>10.75</td>\n",
       "    </tr>\n",
       "    <tr>\n",
       "      <th>7</th>\n",
       "      <td>4.0</td>\n",
       "      <td>0.0</td>\n",
       "      <td>from0.0</td>\n",
       "      <td>0_0</td>\n",
       "      <td>9.9</td>\n",
       "      <td>0.0</td>\n",
       "      <td>2.4</td>\n",
       "      <td>SUMO_DEFAULT_TYPE</td>\n",
       "      <td>1.65</td>\n",
       "      <td>13.15</td>\n",
       "    </tr>\n",
       "    <tr>\n",
       "      <th>11</th>\n",
       "      <td>5.0</td>\n",
       "      <td>0.0</td>\n",
       "      <td>from0.0</td>\n",
       "      <td>0_0</td>\n",
       "      <td>13.1</td>\n",
       "      <td>0.0</td>\n",
       "      <td>3.2</td>\n",
       "      <td>SUMO_DEFAULT_TYPE</td>\n",
       "      <td>1.65</td>\n",
       "      <td>16.35</td>\n",
       "    </tr>\n",
       "  </tbody>\n",
       "</table>\n",
       "</div>"
      ],
      "text/plain": [
       "    timestep_time  vehicle_angle vehicle_id vehicle_lane  vehicle_pos  \\\n",
       "1             1.0            0.0    from0.0          0_0          5.1   \n",
       "2             2.0            0.0    from0.0          0_0          5.9   \n",
       "4             3.0            0.0    from0.0          0_0          7.5   \n",
       "7             4.0            0.0    from0.0          0_0          9.9   \n",
       "11            5.0            0.0    from0.0          0_0         13.1   \n",
       "\n",
       "    vehicle_slope  vehicle_speed       vehicle_type  vehicle_x  vehicle_y  \n",
       "1             0.0            0.0  SUMO_DEFAULT_TYPE       1.65       8.35  \n",
       "2             0.0            0.8  SUMO_DEFAULT_TYPE       1.65       9.15  \n",
       "4             0.0            1.6  SUMO_DEFAULT_TYPE       1.65      10.75  \n",
       "7             0.0            2.4  SUMO_DEFAULT_TYPE       1.65      13.15  \n",
       "11            0.0            3.2  SUMO_DEFAULT_TYPE       1.65      16.35  "
      ]
     },
     "execution_count": 32,
     "metadata": {},
     "output_type": "execute_result"
    }
   ],
   "source": [
    "car0_df = car_groups.get_group(cars[0])\n",
    "car0_df.head()"
   ]
  },
  {
   "cell_type": "markdown",
   "metadata": {},
   "source": [
    "Below is a figure of how a sample car moves in the x and y coordinates"
   ]
  },
  {
   "cell_type": "code",
   "execution_count": 33,
   "metadata": {
    "scrolled": false
   },
   "outputs": [
    {
     "data": {
      "image/png": "[encoded data removed]",
      "text/plain": [
       "<Figure size 432x288 with 1 Axes>"
      ]
     },
     "metadata": {
      "needs_background": "light"
     },
     "output_type": "display_data"
    }
   ],
   "source": [
    "fig = plt.figure()\n",
    "ax = Axes3D(fig)\n",
    "ax.scatter(car0_df['timestep_time'],car0_df['vehicle_x'] , car0_df['vehicle_y'])\n",
    "ax.set_xlabel(\"time\")\n",
    "ax.set_ylabel(\"x_coord\")\n",
    "ax.set_zlabel(\"y_coord\")\n",
    "plt.show()"
   ]
  },
  {
   "cell_type": "markdown",
   "metadata": {},
   "source": [
    "The manual and hardest part of the simulation is positioning the microclouds. Note that below, we will position the microclouds in an algorithmic fashion; however, this algorithm may not be in fact the most optimal positioning as it does not take into account real life variables such as signal strength and block loss"
   ]
  },
  {
   "cell_type": "markdown",
   "metadata": {},
   "source": [
    "All cars travel the same box shaped route, so we will determine the position of the antenas from the routes of the cars"
   ]
  },
  {
   "cell_type": "code",
   "execution_count": 34,
   "metadata": {},
   "outputs": [],
   "source": [
    "coords_x,coords_y = df['vehicle_x'],df['vehicle_y']"
   ]
  },
  {
   "cell_type": "markdown",
   "metadata": {},
   "source": [
    "Given the minimum and maximum x and y coordinates along the range of the microclouds we will place the microclouds s.t they cover each of these coordinates and maximize the coverage with other coordinates. \n",
    "Note that when stating cover we refer that the eucledian distance between an microcloud and a point is less than or equal to the range of the microcloud"
   ]
  },
  {
   "cell_type": "code",
   "execution_count": 35,
   "metadata": {},
   "outputs": [],
   "source": [
    "MiCROCLOUD_RANGE=100"
   ]
  },
  {
   "cell_type": "code",
   "execution_count": 36,
   "metadata": {},
   "outputs": [],
   "source": [
    "#Returns a list of 4 tuples for the x and y coordinates of the microclouds in the box shaped simulation\n",
    "def get_antena_coords(coords_x,coords_y,MiCROCLOUD_RANGE=200):\n",
    "    min_x,max_x = min(coords_x),max(coords_x)\n",
    "    min_y,max_y = min(coords_y),max(coords_y)\n",
    "    d = sqrt(MiCROCLOUD_RANGE**2/2)\n",
    "    return [(min_x+d,min_y+d),(min_x+d,max_y-d),(max_x-d,max_y-d),(max_x-d,min_y+d)]"
   ]
  },
  {
   "cell_type": "code",
   "execution_count": 37,
   "metadata": {
    "scrolled": false
   },
   "outputs": [
    {
     "data": {
      "image/png": "[encoded data removed]",
      "text/plain": [
       "<Figure size 432x288 with 1 Axes>"
      ]
     },
     "metadata": {
      "needs_background": "light"
     },
     "output_type": "display_data"
    }
   ],
   "source": [
    "microcloud_coords = get_antena_coords(coords_x,coords_y,MiCROCLOUD_RANGE=MiCROCLOUD_RANGE)\n",
    "plot_microclouds(microcloud_coords,MiCROCLOUD_RANGE,coords_x,coords_y)\n"
   ]
  },
  {
   "cell_type": "code",
   "execution_count": 38,
   "metadata": {},
   "outputs": [
    {
     "data": {
      "image/png": "[encoded data removed]",
      "text/plain": [
       "<Figure size 432x288 with 1 Axes>"
      ]
     },
     "metadata": {
      "needs_background": "light"
     },
     "output_type": "display_data"
    }
   ],
   "source": [
    "plot_microclouds(microcloud_coords,135,coords_x,coords_y)"
   ]
  },
  {
   "cell_type": "markdown",
   "metadata": {},
   "source": [
    "Below we will test out data structures with a sample simulation with one car, one microcloud and one block for that car\n"
   ]
  },
  {
   "cell_type": "code",
   "execution_count": 39,
   "metadata": {},
   "outputs": [],
   "source": [
    "def test():\n",
    "    logging.getLogger().setLevel(logging.DEBUG)\n",
    "    blocks = [Block(0,10)]\n",
    "    x,y = microcloud_coords[0]\n",
    "    bandwith = .01\n",
    "    microcloud = Microcloud(0,x,y, MiCROCLOUD_RANGE,blocks,.01)\n",
    "    node  = Node(car0_df[0:10],blocks) #Note that we sliced the rows of the df to minimize output \n",
    "    stats = node.simulate([microcloud])\n",
    "    logging.debug(\"Stats : {}\".format(stats))"
   ]
  },
  {
   "cell_type": "code",
   "execution_count": 40,
   "metadata": {
    "scrolled": false
   },
   "outputs": [
    {
     "name": "stderr",
     "output_type": "stream",
     "text": [
      "INFO:root:Id from0.0\n",
      "INFO:root:Time 1.0\n",
      "INFO:root:Initiated download for block 0 on car from0.0 with microcloud 0\n",
      "INFO:root:Time 2.0\n",
      "INFO:root:Continuing download for block 0 on car from0.0 with microcloud 0 latest progress: 0.01\n",
      "INFO:root:Time 3.0\n",
      "INFO:root:Continuing download for block 0 on car from0.0 with microcloud 0 latest progress: 0.02\n",
      "INFO:root:Time 4.0\n",
      "INFO:root:Continuing download for block 0 on car from0.0 with microcloud 0 latest progress: 0.03\n",
      "INFO:root:Time 5.0\n",
      "INFO:root:Continuing download for block 0 on car from0.0 with microcloud 0 latest progress: 0.04\n",
      "INFO:root:Time 6.0\n",
      "INFO:root:Continuing download for block 0 on car from0.0 with microcloud 0 latest progress: 0.05\n",
      "INFO:root:Time 7.0\n",
      "INFO:root:Continuing download for block 0 on car from0.0 with microcloud 0 latest progress: 0.060000000000000005\n",
      "INFO:root:Time 8.0\n",
      "INFO:root:Continuing download for block 0 on car from0.0 with microcloud 0 latest progress: 0.07\n",
      "INFO:root:Time 9.0\n",
      "INFO:root:Continuing download for block 0 on car from0.0 with microcloud 0 latest progress: 0.08\n",
      "INFO:root:Time 10.0\n",
      "INFO:root:Continuing download for block 0 on car from0.0 with microcloud 0 latest progress: 0.09\n",
      "DEBUG:root:Stats : ['from0.0', 0, 1]\n"
     ]
    }
   ],
   "source": [
    "test()"
   ]
  },
  {
   "cell_type": "markdown",
   "metadata": {},
   "source": [
    "Now that we have created the simulation framework and tested it with one node, one block and  one microcloud. We will now test it with one node,4 blocks and 4 microclouds"
   ]
  },
  {
   "cell_type": "code",
   "execution_count": 41,
   "metadata": {},
   "outputs": [],
   "source": [
    "def test2():\n",
    "    logging.getLogger().setLevel(logging.DEBUG)\n",
    "    n,bandwith = 4,0.01\n",
    "    blocks = [Block(n,10) for i in range(n)]\n",
    "    microclouds = [Microcloud(i,microcloud_coords[i][0],microcloud_coords[i][1], MiCROCLOUD_RANGE,[blocks[i]],bandwith) for i in range(n)] \n",
    "    node  = Node(car0_df[0:40],blocks) #Note that we sliced the rows of the df to minimize output \n",
    "    stats= node.simulate(microclouds)\n",
    "    logging.debug(\"Stats : {}\".format(stats))"
   ]
  },
  {
   "cell_type": "code",
   "execution_count": 42,
   "metadata": {
    "scrolled": false
   },
   "outputs": [
    {
     "name": "stderr",
     "output_type": "stream",
     "text": [
      "INFO:root:Id from0.0\n",
      "INFO:root:Time 1.0\n",
      "INFO:root:Initiated download for block 4 on car from0.0 with microcloud 0\n",
      "INFO:root:Time 2.0\n",
      "INFO:root:Continuing download for block 4 on car from0.0 with microcloud 0 latest progress: 0.01\n",
      "INFO:root:Time 3.0\n",
      "INFO:root:Continuing download for block 4 on car from0.0 with microcloud 0 latest progress: 0.02\n",
      "INFO:root:Time 4.0\n",
      "INFO:root:Continuing download for block 4 on car from0.0 with microcloud 0 latest progress: 0.03\n",
      "INFO:root:Time 5.0\n",
      "INFO:root:Continuing download for block 4 on car from0.0 with microcloud 0 latest progress: 0.04\n",
      "INFO:root:Time 6.0\n",
      "INFO:root:Continuing download for block 4 on car from0.0 with microcloud 0 latest progress: 0.05\n",
      "INFO:root:Time 7.0\n",
      "INFO:root:Continuing download for block 4 on car from0.0 with microcloud 0 latest progress: 0.060000000000000005\n",
      "INFO:root:Time 8.0\n",
      "INFO:root:Continuing download for block 4 on car from0.0 with microcloud 0 latest progress: 0.07\n",
      "INFO:root:Time 9.0\n",
      "INFO:root:Continuing download for block 4 on car from0.0 with microcloud 0 latest progress: 0.08\n",
      "INFO:root:Time 10.0\n",
      "INFO:root:Continuing download for block 4 on car from0.0 with microcloud 0 latest progress: 0.09\n",
      "INFO:root:Time 11.0\n",
      "INFO:root:Continuing download for block 4 on car from0.0 with microcloud 0 latest progress: 0.09999999999999999\n",
      "INFO:root:Time 12.0\n",
      "INFO:root:Continuing download for block 4 on car from0.0 with microcloud 0 latest progress: 0.10999999999999999\n",
      "INFO:root:Time 13.0\n",
      "INFO:root:Continuing download for block 4 on car from0.0 with microcloud 0 latest progress: 0.11999999999999998\n",
      "INFO:root:Time 14.0\n",
      "INFO:root:Continuing download for block 4 on car from0.0 with microcloud 0 latest progress: 0.12999999999999998\n",
      "INFO:root:Time 15.0\n",
      "INFO:root:Continuing download for block 4 on car from0.0 with microcloud 0 latest progress: 0.13999999999999999\n",
      "INFO:root:Time 16.0\n",
      "INFO:root:Continuing download for block 4 on car from0.0 with microcloud 0 latest progress: 0.15\n",
      "INFO:root:Time 17.0\n",
      "INFO:root:Continuing download for block 4 on car from0.0 with microcloud 0 latest progress: 0.16\n",
      "INFO:root:Time 18.0\n",
      "INFO:root:Continuing download for block 4 on car from0.0 with microcloud 0 latest progress: 0.17\n",
      "INFO:root:Time 19.0\n",
      "INFO:root:Stopping download for block 4 on car from0.0 with microcloud 0, last progress : 0.17\n",
      "INFO:root:Time 20.0\n",
      "INFO:root:Time 21.0\n",
      "INFO:root:Time 22.0\n",
      "INFO:root:Time 23.0\n",
      "INFO:root:Time 24.0\n",
      "INFO:root:Time 25.0\n",
      "INFO:root:Time 26.0\n",
      "INFO:root:Time 27.0\n",
      "INFO:root:Time 28.0\n",
      "INFO:root:Time 29.0\n",
      "INFO:root:Time 30.0\n",
      "INFO:root:Time 31.0\n",
      "INFO:root:Initiated download for block 4 on car from0.0 with microcloud 1\n",
      "INFO:root:Time 32.0\n",
      "INFO:root:Continuing download for block 4 on car from0.0 with microcloud 1 latest progress: 0.01\n",
      "INFO:root:Time 33.0\n",
      "INFO:root:Continuing download for block 4 on car from0.0 with microcloud 1 latest progress: 0.02\n",
      "INFO:root:Time 34.0\n",
      "INFO:root:Continuing download for block 4 on car from0.0 with microcloud 1 latest progress: 0.03\n",
      "INFO:root:Time 35.0\n",
      "INFO:root:Continuing download for block 4 on car from0.0 with microcloud 1 latest progress: 0.04\n",
      "INFO:root:Time 36.0\n",
      "INFO:root:Continuing download for block 4 on car from0.0 with microcloud 1 latest progress: 0.05\n",
      "INFO:root:Time 37.0\n",
      "INFO:root:Continuing download for block 4 on car from0.0 with microcloud 1 latest progress: 0.060000000000000005\n",
      "INFO:root:Time 38.0\n",
      "INFO:root:Continuing download for block 4 on car from0.0 with microcloud 1 latest progress: 0.07\n",
      "INFO:root:Time 39.0\n",
      "INFO:root:Continuing download for block 4 on car from0.0 with microcloud 1 latest progress: 0.08\n",
      "INFO:root:Time 40.0\n",
      "INFO:root:Continuing download for block 4 on car from0.0 with microcloud 1 latest progress: 0.09\n",
      "DEBUG:root:Stats : ['from0.0', 0, 4]\n"
     ]
    }
   ],
   "source": [
    "test2()"
   ]
  },
  {
   "cell_type": "markdown",
   "metadata": {},
   "source": [
    "Now that we have tested the simulator thoroughly we will simulate the scenario with all the cars and record the blocks download for each car. Also we will copy the blocks twice and distribute them evenly among the microclouds"
   ]
  },
  {
   "cell_type": "code",
   "execution_count": 43,
   "metadata": {},
   "outputs": [],
   "source": [
    "def simulation():\n",
    "    logging.getLogger().setLevel(logging.WARN)\n",
    "    n = 4 #Four blocks and four microclouds\n",
    "    bandwith = .65\n",
    "    blocks = [Block(n,10) for i in range(n)]\n",
    "    microclouds = []\n",
    "    microclouds = [Microcloud(i,microcloud_coords[i][0],microcloud_coords[i][1], MiCROCLOUD_RANGE,[blocks[i],blocks[len(blocks)-1-i]],bandwith) for i in range(n)] \n",
    "    nodes = []\n",
    "    for car in cars:\n",
    "        car_df = car_groups.get_group(car)\n",
    "        node = Node(car_df,blocks)\n",
    "        nodes.append(node)\n",
    "    pool = ThreadPool(8) \n",
    "    results = pool.map(lambda node:node.simulate(microclouds), nodes)\n",
    "    return results"
   ]
  },
  {
   "cell_type": "code",
   "execution_count": 44,
   "metadata": {},
   "outputs": [],
   "source": [
    "stats = simulation()"
   ]
  },
  {
   "cell_type": "code",
   "execution_count": 45,
   "metadata": {
    "scrolled": true
   },
   "outputs": [
    {
     "data": {
      "text/html": [
       "<div>\n",
       "<style scoped>\n",
       "    .dataframe tbody tr th:only-of-type {\n",
       "        vertical-align: middle;\n",
       "    }\n",
       "\n",
       "    .dataframe tbody tr th {\n",
       "        vertical-align: top;\n",
       "    }\n",
       "\n",
       "    .dataframe thead th {\n",
       "        text-align: right;\n",
       "    }\n",
       "</style>\n",
       "<table border=\"1\" class=\"dataframe\">\n",
       "  <thead>\n",
       "    <tr style=\"text-align: right;\">\n",
       "      <th></th>\n",
       "      <th>id</th>\n",
       "      <th>blocks_received</th>\n",
       "      <th>blocks_needed</th>\n",
       "    </tr>\n",
       "  </thead>\n",
       "  <tbody>\n",
       "    <tr>\n",
       "      <th>0</th>\n",
       "      <td>from0.0</td>\n",
       "      <td>3</td>\n",
       "      <td>4</td>\n",
       "    </tr>\n",
       "    <tr>\n",
       "      <th>1</th>\n",
       "      <td>from1.0</td>\n",
       "      <td>3</td>\n",
       "      <td>4</td>\n",
       "    </tr>\n",
       "    <tr>\n",
       "      <th>2</th>\n",
       "      <td>from2.0</td>\n",
       "      <td>3</td>\n",
       "      <td>4</td>\n",
       "    </tr>\n",
       "    <tr>\n",
       "      <th>3</th>\n",
       "      <td>from3.0</td>\n",
       "      <td>3</td>\n",
       "      <td>4</td>\n",
       "    </tr>\n",
       "    <tr>\n",
       "      <th>4</th>\n",
       "      <td>from0.1</td>\n",
       "      <td>3</td>\n",
       "      <td>4</td>\n",
       "    </tr>\n",
       "  </tbody>\n",
       "</table>\n",
       "</div>"
      ],
      "text/plain": [
       "        id  blocks_received  blocks_needed\n",
       "0  from0.0                3              4\n",
       "1  from1.0                3              4\n",
       "2  from2.0                3              4\n",
       "3  from3.0                3              4\n",
       "4  from0.1                3              4"
      ]
     },
     "execution_count": 45,
     "metadata": {},
     "output_type": "execute_result"
    }
   ],
   "source": [
    "stats_df = pd.DataFrame(stats,columns=['id','blocks_received','blocks_needed'])\n",
    "stats_df.head()"
   ]
  },
  {
   "cell_type": "code",
   "execution_count": 46,
   "metadata": {},
   "outputs": [
    {
     "data": {
      "image/png": "[encoded data removed]",
      "text/plain": [
       "<Figure size 432x288 with 1 Axes>"
      ]
     },
     "metadata": {
      "needs_background": "light"
     },
     "output_type": "display_data"
    }
   ],
   "source": [
    "blocks_received = stats_df['blocks_received']\n",
    "plt.xlabel(\"blocks_received\")\n",
    "plt.title(\"Blocks received per car\")\n",
    "plt.hist(stats_df['blocks_received'],range=(1,4.5))\n",
    "plt.show()"
   ]
  }
 ],
 "metadata": {
  "kernelspec": {
   "display_name": "Python 3",
   "language": "python",
   "name": "python3"
  },
  "language_info": {
   "codemirror_mode": {
    "name": "ipython",
    "version": 3
   },
   "file_extension": ".py",
   "mimetype": "text/x-python",
   "name": "python",
   "nbconvert_exporter": "python",
   "pygments_lexer": "ipython3",
   "version": "3.5.2"
  }
 },
 "nbformat": 4,
 "nbformat_minor": 2
}
