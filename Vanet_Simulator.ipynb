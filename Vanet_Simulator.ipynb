{
 "cells": [
  {
   "cell_type": "code",
   "execution_count": 3,
   "metadata": {},
   "outputs": [],
   "source": [
    "import pandas as pd\n",
    "import matplotlib.pyplot as plt\n",
    "import logging \n",
    "from mpl_toolkits.mplot3d import Axes3D\n",
    "from scipy.spatial import distance\n",
    "from collections import defaultdict\n",
    "from math import sqrt\n",
    "from multiprocessing.dummy import Pool as ThreadPool "
   ]
  },
  {
   "cell_type": "code",
   "execution_count": 4,
   "metadata": {
    "scrolled": false
   },
   "outputs": [
    {
     "data": {
      "text/html": [
       "<div>\n",
       "<style scoped>\n",
       "    .dataframe tbody tr th:only-of-type {\n",
       "        vertical-align: middle;\n",
       "    }\n",
       "\n",
       "    .dataframe tbody tr th {\n",
       "        vertical-align: top;\n",
       "    }\n",
       "\n",
       "    .dataframe thead th {\n",
       "        text-align: right;\n",
       "    }\n",
       "</style>\n",
       "<table border=\"1\" class=\"dataframe\">\n",
       "  <thead>\n",
       "    <tr style=\"text-align: right;\">\n",
       "      <th></th>\n",
       "      <th>timestep_time</th>\n",
       "      <th>vehicle_angle</th>\n",
       "      <th>vehicle_id</th>\n",
       "      <th>vehicle_lane</th>\n",
       "      <th>vehicle_pos</th>\n",
       "      <th>vehicle_slope</th>\n",
       "      <th>vehicle_speed</th>\n",
       "      <th>vehicle_type</th>\n",
       "      <th>vehicle_x</th>\n",
       "      <th>vehicle_y</th>\n",
       "    </tr>\n",
       "  </thead>\n",
       "  <tbody>\n",
       "    <tr>\n",
       "      <th>1</th>\n",
       "      <td>1.0</td>\n",
       "      <td>0.0</td>\n",
       "      <td>from0.0</td>\n",
       "      <td>0_0</td>\n",
       "      <td>5.1</td>\n",
       "      <td>0.0</td>\n",
       "      <td>0.0</td>\n",
       "      <td>SUMO_DEFAULT_TYPE</td>\n",
       "      <td>1.65</td>\n",
       "      <td>8.35</td>\n",
       "    </tr>\n",
       "    <tr>\n",
       "      <th>2</th>\n",
       "      <td>2.0</td>\n",
       "      <td>0.0</td>\n",
       "      <td>from0.0</td>\n",
       "      <td>0_0</td>\n",
       "      <td>5.9</td>\n",
       "      <td>0.0</td>\n",
       "      <td>0.8</td>\n",
       "      <td>SUMO_DEFAULT_TYPE</td>\n",
       "      <td>1.65</td>\n",
       "      <td>9.15</td>\n",
       "    </tr>\n",
       "    <tr>\n",
       "      <th>3</th>\n",
       "      <td>2.0</td>\n",
       "      <td>90.0</td>\n",
       "      <td>from1.0</td>\n",
       "      <td>1_0</td>\n",
       "      <td>5.1</td>\n",
       "      <td>0.0</td>\n",
       "      <td>0.0</td>\n",
       "      <td>SUMO_DEFAULT_TYPE</td>\n",
       "      <td>8.35</td>\n",
       "      <td>498.35</td>\n",
       "    </tr>\n",
       "    <tr>\n",
       "      <th>4</th>\n",
       "      <td>3.0</td>\n",
       "      <td>0.0</td>\n",
       "      <td>from0.0</td>\n",
       "      <td>0_0</td>\n",
       "      <td>7.5</td>\n",
       "      <td>0.0</td>\n",
       "      <td>1.6</td>\n",
       "      <td>SUMO_DEFAULT_TYPE</td>\n",
       "      <td>1.65</td>\n",
       "      <td>10.75</td>\n",
       "    </tr>\n",
       "    <tr>\n",
       "      <th>5</th>\n",
       "      <td>3.0</td>\n",
       "      <td>90.0</td>\n",
       "      <td>from1.0</td>\n",
       "      <td>1_0</td>\n",
       "      <td>5.9</td>\n",
       "      <td>0.0</td>\n",
       "      <td>0.8</td>\n",
       "      <td>SUMO_DEFAULT_TYPE</td>\n",
       "      <td>9.15</td>\n",
       "      <td>498.35</td>\n",
       "    </tr>\n",
       "  </tbody>\n",
       "</table>\n",
       "</div>"
      ],
      "text/plain": [
       "   timestep_time  vehicle_angle vehicle_id vehicle_lane  vehicle_pos  \\\n",
       "1            1.0            0.0    from0.0          0_0          5.1   \n",
       "2            2.0            0.0    from0.0          0_0          5.9   \n",
       "3            2.0           90.0    from1.0          1_0          5.1   \n",
       "4            3.0            0.0    from0.0          0_0          7.5   \n",
       "5            3.0           90.0    from1.0          1_0          5.9   \n",
       "\n",
       "   vehicle_slope  vehicle_speed       vehicle_type  vehicle_x  vehicle_y  \n",
       "1            0.0            0.0  SUMO_DEFAULT_TYPE       1.65       8.35  \n",
       "2            0.0            0.8  SUMO_DEFAULT_TYPE       1.65       9.15  \n",
       "3            0.0            0.0  SUMO_DEFAULT_TYPE       8.35     498.35  \n",
       "4            0.0            1.6  SUMO_DEFAULT_TYPE       1.65      10.75  \n",
       "5            0.0            0.8  SUMO_DEFAULT_TYPE       9.15     498.35  "
      ]
     },
     "execution_count": 4,
     "metadata": {},
     "output_type": "execute_result"
    }
   ],
   "source": [
    "df = pd.read_csv(\"sumo_out.csv\",delimiter=\";\").dropna()\n",
    "df.head()"
   ]
  },
  {
   "cell_type": "code",
   "execution_count": 5,
   "metadata": {},
   "outputs": [],
   "source": [
    "car_groups = df.sort_values(by='timestep_time').groupby('vehicle_id')"
   ]
  },
  {
   "cell_type": "code",
   "execution_count": 6,
   "metadata": {},
   "outputs": [],
   "source": [
    "cars = df['vehicle_id'].unique()"
   ]
  },
  {
   "cell_type": "code",
   "execution_count": 7,
   "metadata": {
    "scrolled": true
   },
   "outputs": [
    {
     "data": {
      "text/html": [
       "<div>\n",
       "<style scoped>\n",
       "    .dataframe tbody tr th:only-of-type {\n",
       "        vertical-align: middle;\n",
       "    }\n",
       "\n",
       "    .dataframe tbody tr th {\n",
       "        vertical-align: top;\n",
       "    }\n",
       "\n",
       "    .dataframe thead th {\n",
       "        text-align: right;\n",
       "    }\n",
       "</style>\n",
       "<table border=\"1\" class=\"dataframe\">\n",
       "  <thead>\n",
       "    <tr style=\"text-align: right;\">\n",
       "      <th></th>\n",
       "      <th>timestep_time</th>\n",
       "      <th>vehicle_angle</th>\n",
       "      <th>vehicle_id</th>\n",
       "      <th>vehicle_lane</th>\n",
       "      <th>vehicle_pos</th>\n",
       "      <th>vehicle_slope</th>\n",
       "      <th>vehicle_speed</th>\n",
       "      <th>vehicle_type</th>\n",
       "      <th>vehicle_x</th>\n",
       "      <th>vehicle_y</th>\n",
       "    </tr>\n",
       "  </thead>\n",
       "  <tbody>\n",
       "    <tr>\n",
       "      <th>1</th>\n",
       "      <td>1.0</td>\n",
       "      <td>0.0</td>\n",
       "      <td>from0.0</td>\n",
       "      <td>0_0</td>\n",
       "      <td>5.1</td>\n",
       "      <td>0.0</td>\n",
       "      <td>0.0</td>\n",
       "      <td>SUMO_DEFAULT_TYPE</td>\n",
       "      <td>1.65</td>\n",
       "      <td>8.35</td>\n",
       "    </tr>\n",
       "    <tr>\n",
       "      <th>2</th>\n",
       "      <td>2.0</td>\n",
       "      <td>0.0</td>\n",
       "      <td>from0.0</td>\n",
       "      <td>0_0</td>\n",
       "      <td>5.9</td>\n",
       "      <td>0.0</td>\n",
       "      <td>0.8</td>\n",
       "      <td>SUMO_DEFAULT_TYPE</td>\n",
       "      <td>1.65</td>\n",
       "      <td>9.15</td>\n",
       "    </tr>\n",
       "    <tr>\n",
       "      <th>4</th>\n",
       "      <td>3.0</td>\n",
       "      <td>0.0</td>\n",
       "      <td>from0.0</td>\n",
       "      <td>0_0</td>\n",
       "      <td>7.5</td>\n",
       "      <td>0.0</td>\n",
       "      <td>1.6</td>\n",
       "      <td>SUMO_DEFAULT_TYPE</td>\n",
       "      <td>1.65</td>\n",
       "      <td>10.75</td>\n",
       "    </tr>\n",
       "    <tr>\n",
       "      <th>7</th>\n",
       "      <td>4.0</td>\n",
       "      <td>0.0</td>\n",
       "      <td>from0.0</td>\n",
       "      <td>0_0</td>\n",
       "      <td>9.9</td>\n",
       "      <td>0.0</td>\n",
       "      <td>2.4</td>\n",
       "      <td>SUMO_DEFAULT_TYPE</td>\n",
       "      <td>1.65</td>\n",
       "      <td>13.15</td>\n",
       "    </tr>\n",
       "    <tr>\n",
       "      <th>11</th>\n",
       "      <td>5.0</td>\n",
       "      <td>0.0</td>\n",
       "      <td>from0.0</td>\n",
       "      <td>0_0</td>\n",
       "      <td>13.1</td>\n",
       "      <td>0.0</td>\n",
       "      <td>3.2</td>\n",
       "      <td>SUMO_DEFAULT_TYPE</td>\n",
       "      <td>1.65</td>\n",
       "      <td>16.35</td>\n",
       "    </tr>\n",
       "  </tbody>\n",
       "</table>\n",
       "</div>"
      ],
      "text/plain": [
       "    timestep_time  vehicle_angle vehicle_id vehicle_lane  vehicle_pos  \\\n",
       "1             1.0            0.0    from0.0          0_0          5.1   \n",
       "2             2.0            0.0    from0.0          0_0          5.9   \n",
       "4             3.0            0.0    from0.0          0_0          7.5   \n",
       "7             4.0            0.0    from0.0          0_0          9.9   \n",
       "11            5.0            0.0    from0.0          0_0         13.1   \n",
       "\n",
       "    vehicle_slope  vehicle_speed       vehicle_type  vehicle_x  vehicle_y  \n",
       "1             0.0            0.0  SUMO_DEFAULT_TYPE       1.65       8.35  \n",
       "2             0.0            0.8  SUMO_DEFAULT_TYPE       1.65       9.15  \n",
       "4             0.0            1.6  SUMO_DEFAULT_TYPE       1.65      10.75  \n",
       "7             0.0            2.4  SUMO_DEFAULT_TYPE       1.65      13.15  \n",
       "11            0.0            3.2  SUMO_DEFAULT_TYPE       1.65      16.35  "
      ]
     },
     "execution_count": 7,
     "metadata": {},
     "output_type": "execute_result"
    }
   ],
   "source": [
    "car0_df = car_groups.get_group(cars[0])\n",
    "car0_df.head()"
   ]
  },
  {
   "cell_type": "markdown",
   "metadata": {},
   "source": [
    "Below is a figure of how a sample car moves in the x and y coordinates"
   ]
  },
  {
   "cell_type": "code",
   "execution_count": 8,
   "metadata": {
    "scrolled": false
   },
   "outputs": [
    {
     "data": {
      "image/png": "[encoded data removed]",
      "text/plain": [
       "<Figure size 432x288 with 1 Axes>"
      ]
     },
     "metadata": {
      "needs_background": "light"
     },
     "output_type": "display_data"
    }
   ],
   "source": [
    "fig = plt.figure()\n",
    "ax = Axes3D(fig)\n",
    "ax.scatter(car0_df['timestep_time'],car0_df['vehicle_x'] , car0_df['vehicle_y'])\n",
    "ax.set_xlabel(\"time\")\n",
    "ax.set_ylabel(\"x_coord\")\n",
    "ax.set_zlabel(\"y_coord\")\n",
    "plt.show()"
   ]
  },
  {
   "cell_type": "markdown",
   "metadata": {},
   "source": [
    "The manual and hardest part of the simulation is positioning the antennas. Note that below, we will position the antennas in an algorithmic fashion; however, this algorithm may not be in fact the most optimal positioning as it does not take into account real life variables such as signal strength and packet loss"
   ]
  },
  {
   "cell_type": "markdown",
   "metadata": {},
   "source": [
    "All cars travel the same box shaped route, so we will determine the position of the antenas from the routes of the cars"
   ]
  },
  {
   "cell_type": "code",
   "execution_count": 9,
   "metadata": {},
   "outputs": [],
   "source": [
    "coords_x,coords_y = df['vehicle_x'],df['vehicle_y']"
   ]
  },
  {
   "cell_type": "markdown",
   "metadata": {},
   "source": [
    "Given the minimum and maximum x and y coordinates along the range of the antennas we will place the antennas s.t they cover each of these coordinates and maximize the coverage with other coordinates. \n",
    "Note that when stating cover we refer that the eucledian distance between an antenna and a point is less than or equal to the range of the antenna"
   ]
  },
  {
   "cell_type": "code",
   "execution_count": 10,
   "metadata": {},
   "outputs": [],
   "source": [
    "ANTENNA_RANGE=100"
   ]
  },
  {
   "cell_type": "code",
   "execution_count": 11,
   "metadata": {},
   "outputs": [],
   "source": [
    "#Returns a list of 4 tuples for the x and y coordinates of the antennas in the box shaped simulation\n",
    "def get_antena_coords(coords_x,coords_y,antenna_range=200):\n",
    "    min_x,max_x = min(coords_x),max(coords_x)\n",
    "    min_y,max_y = min(coords_y),max(coords_y)\n",
    "    d = sqrt(antenna_range**2/2)\n",
    "    return [(min_x+d,min_y+d),(min_x+d,max_y-d),(max_x-d,max_y-d),(max_x-d,min_y+d)]"
   ]
  },
  {
   "cell_type": "code",
   "execution_count": 12,
   "metadata": {},
   "outputs": [],
   "source": [
    "def plot_antennas(antenna_coords,antenna_range,coords_x,coords_y):\n",
    "    fig, ax = plt.subplots()\n",
    "    plt.scatter(coords_x,coords_y)\n",
    "    plt.xlabel(\"x coordinate\")\n",
    "    plt.ylabel(\"y coordinate\")\n",
    "    plt.title(\"Antennas\")\n",
    "    for antenna_coord in antenna_coords:\n",
    "        antenna = plt.Circle(antenna_coord,antenna_range)\n",
    "        ax.add_artist(antenna)\n",
    "    plt.show()"
   ]
  },
  {
   "cell_type": "code",
   "execution_count": 13,
   "metadata": {
    "scrolled": false
   },
   "outputs": [
    {
     "data": {
      "image/png": "[encoded data removed]",
      "text/plain": [
       "<Figure size 432x288 with 1 Axes>"
      ]
     },
     "metadata": {
      "needs_background": "light"
     },
     "output_type": "display_data"
    }
   ],
   "source": [
    "antenna_coords = get_antena_coords(coords_x,coords_y,antenna_range=ANTENNA_RANGE)\n",
    "plot_antennas(antenna_coords,ANTENNA_RANGE,coords_x,coords_y)\n"
   ]
  },
  {
   "cell_type": "code",
   "execution_count": 33,
   "metadata": {},
   "outputs": [
    {
     "data": {
      "image/png": "[encoded data removed]",
      "text/plain": [
       "<Figure size 432x288 with 1 Axes>"
      ]
     },
     "metadata": {
      "needs_background": "light"
     },
     "output_type": "display_data"
    }
   ],
   "source": [
    "plot_antennas(antenna_coords,135,coords_x,coords_y)"
   ]
  },
  {
   "cell_type": "markdown",
   "metadata": {},
   "source": [
    "Now that we have established how we will place the antennas and we have plotted the range of the antennas on the grid, we will establish the data structures used for the simulation"
   ]
  },
  {
   "cell_type": "code",
   "execution_count": 15,
   "metadata": {},
   "outputs": [],
   "source": [
    "class Packet:\n",
    "    def __init__(self,identifier,size):\n",
    "        self.identifier = identifier\n",
    "        self.size = size\n",
    "    def __eq__(self, other):\n",
    "        return other and self.identifier == other.identifier"
   ]
  },
  {
   "cell_type": "code",
   "execution_count": 16,
   "metadata": {},
   "outputs": [],
   "source": [
    "class Antenna:\n",
    "    def __init__(self,antenna_id,x,y,ant_range,packets,bandwith):\n",
    "        self.id = antenna_id\n",
    "        self.x = x\n",
    "        self.y = y\n",
    "        self.ant_range = ant_range\n",
    "        self.packets = packets\n",
    "        self.bandwith = bandwith\n",
    "        \n",
    "    def in_range(self,other_x,other_y):\n",
    "        return distance.euclidean((self.x,self.y), (other_x,other_y))<=self.ant_range\n",
    "    \n",
    "    def has_packet(self, packet):\n",
    "        return packet in self.packets\n",
    "    \n",
    "    def get_data(self):\n",
    "        return self.bandwith"
   ]
  },
  {
   "cell_type": "code",
   "execution_count": 154,
   "metadata": {},
   "outputs": [],
   "source": [
    "class Node:\n",
    "    def __init__(self,df,packets):\n",
    "        self.id = df.iloc[0]['vehicle_id']\n",
    "        self.df = df\n",
    "        self.packets = packets[:]\n",
    "        #Note the one to one relationship between packet and antenna\n",
    "        self.antenna_to_packet = defaultdict(lambda: (None,0))\n",
    "    \n",
    "    def find_packet(self,antenna):\n",
    "        for index,packet in enumerate(self.packets):\n",
    "            if antenna.has_packet(packet):\n",
    "                self.packets.pop(index)\n",
    "                return packet\n",
    "        return None\n",
    "    \n",
    "    def download_packet(self,x,y,antenna):\n",
    "        if not antenna.in_range(x,y):\n",
    "            packet,progress = self.antenna_to_packet[antenna]\n",
    "            if packet!=None:\n",
    "                info = \"Stopping download for packet {} on car {} with antenna {}, last progress : {}\".format(packet.identifier,self.id,antenna.id,progress)\n",
    "                logging.info(info)\n",
    "                self.packets.append(packet)\n",
    "            self.antenna_to_packet[antenna] = (None,0)\n",
    "        elif self.antenna_to_packet[antenna][0]==None:\n",
    "            packet = self.find_packet(antenna)\n",
    "            if packet!=None:\n",
    "                info = \"Initiated download for packet {} on car {} with antenna {}\".format(packet.identifier,self.id,antenna.id)\n",
    "                logging.info(info)\n",
    "            self.antenna_to_packet[antenna]=(packet,0)\n",
    "        else:\n",
    "            packet,progress = self.antenna_to_packet[antenna]\n",
    "            progress +=antenna.get_data()\n",
    "            info = \"Continuing download for packet {} on car {} with antenna {} latest progress: {}\".format(packet.identifier,self.id,antenna.id,progress)\n",
    "            logging.info(info)\n",
    "            if progress>=packet.size:\n",
    "                info = \"Download finished for packet {} on car {} with antenna {}\".format(packet.identifier,self.id,antenna.id)\n",
    "                logging.info(info)\n",
    "                self.antenna_to_packet[antenna]=(None,0)\n",
    "            else:\n",
    "                self.antenna_to_packet[antenna]=(packet,progress)                    \n",
    "   \n",
    "    def get_packets_dowmloading(self):\n",
    "        packets_downloading = 0\n",
    "        for antenna in self.antenna_to_packet:\n",
    "            packet,progress = self.antenna_to_packet[antenna]\n",
    "            if packet!=None:\n",
    "                packets_downloading+=1\n",
    "        return packets_downloading\n",
    "    \n",
    "    def simulate(self,antennas):\n",
    "        logging.info(\"Id {}\".format(self.id))\n",
    "        total_packets = len(self.packets)\n",
    "        for index, row in self.df.iterrows():\n",
    "            x,y,time = row['vehicle_x'],row['vehicle_y'],row['timestep_time']\n",
    "            logging.info(\"Time {}\".format(time))\n",
    "            for antenna in antennas:\n",
    "                self.download_packet(x,y,antenna)\n",
    "        self.packets_downloaded = total_packets-self.get_packets_dowmloading()- len(self.packets)\n",
    "        return self.id, self.packets_downloaded\n",
    "                \n",
    "                \n",
    "                \n",
    "                \n",
    "                \n",
    "                "
   ]
  },
  {
   "cell_type": "markdown",
   "metadata": {},
   "source": [
    "Below we will test out data structures with a sample simulation with one car, one antenna and one packet for that car\n"
   ]
  },
  {
   "cell_type": "code",
   "execution_count": 168,
   "metadata": {},
   "outputs": [],
   "source": [
    "def test():\n",
    "    logging.getLogger().setLevel(logging.INFO)\n",
    "    packets = [Packet(0,10)]\n",
    "    x,y = antenna_coords[0]\n",
    "    bandwith = .01\n",
    "    antenna = Antenna(0,x,y, ANTENNA_RANGE,packets,.01)\n",
    "    node  = Node(0,car0_df[0:10],packets) #Note that we sliced the rows of the df to minimize output \n",
    "    stats = node.simulate([antenna])\n",
    "    logging.info(\"Stats : {}\".format(stats))"
   ]
  },
  {
   "cell_type": "code",
   "execution_count": 35,
   "metadata": {
    "scrolled": false
   },
   "outputs": [
    {
     "name": "stderr",
     "output_type": "stream",
     "text": [
      "INFO:root:Time 1.0\n",
      "INFO:root:Initiated download for packet 0 on car from0.0 with antenna 0\n",
      "INFO:root:Time 2.0\n",
      "INFO:root:Continuing download for packet 0 on car from0.0 with antenna 0 latest progress: 0.01\n",
      "INFO:root:Time 3.0\n",
      "INFO:root:Continuing download for packet 0 on car from0.0 with antenna 0 latest progress: 0.02\n",
      "INFO:root:Time 4.0\n",
      "INFO:root:Continuing download for packet 0 on car from0.0 with antenna 0 latest progress: 0.03\n",
      "INFO:root:Time 5.0\n",
      "INFO:root:Continuing download for packet 0 on car from0.0 with antenna 0 latest progress: 0.04\n",
      "INFO:root:Time 6.0\n",
      "INFO:root:Continuing download for packet 0 on car from0.0 with antenna 0 latest progress: 0.05\n",
      "INFO:root:Time 7.0\n",
      "INFO:root:Continuing download for packet 0 on car from0.0 with antenna 0 latest progress: 0.060000000000000005\n",
      "INFO:root:Time 8.0\n",
      "INFO:root:Continuing download for packet 0 on car from0.0 with antenna 0 latest progress: 0.07\n",
      "INFO:root:Time 9.0\n",
      "INFO:root:Continuing download for packet 0 on car from0.0 with antenna 0 latest progress: 0.08\n",
      "INFO:root:Time 10.0\n",
      "INFO:root:Continuing download for packet 0 on car from0.0 with antenna 0 latest progress: 0.09\n",
      "INFO:root:Stats : ('from0.0', 0)\n"
     ]
    }
   ],
   "source": [
    "test()"
   ]
  },
  {
   "cell_type": "markdown",
   "metadata": {},
   "source": [
    "Now that we have created the simulation framework and tested it with one node, one packet and  one antenna. We will now test it with one node,4 packets and 4 antennas"
   ]
  },
  {
   "cell_type": "code",
   "execution_count": 36,
   "metadata": {},
   "outputs": [],
   "source": [
    "def test2():\n",
    "    logging.getLogger().setLevel(logging.INFO)\n",
    "    n,bandwith = 4,0.01\n",
    "    packets = [Packet(n,10) for i in range(n)]\n",
    "    antennas = [Antenna(0,antenna_coords[i][0],antenna_coords[i][1], ANTENNA_RANGE,[packets[i]],bandwith) for i in range(n)] \n",
    "    node  = Node(0,car0_df[0:40],packets) #Note that we sliced the rows of the df to minimize output \n",
    "    stats= node.simulate(antennas)\n",
    "    logging.info(\"Stats : {}\".format(stats))"
   ]
  },
  {
   "cell_type": "code",
   "execution_count": 37,
   "metadata": {
    "scrolled": false
   },
   "outputs": [
    {
     "name": "stderr",
     "output_type": "stream",
     "text": [
      "INFO:root:Time 1.0\n",
      "INFO:root:Initiated download for packet 4 on car from0.0 with antenna 0\n",
      "INFO:root:Time 2.0\n",
      "INFO:root:Continuing download for packet 4 on car from0.0 with antenna 0 latest progress: 0.01\n",
      "INFO:root:Time 3.0\n",
      "INFO:root:Continuing download for packet 4 on car from0.0 with antenna 0 latest progress: 0.02\n",
      "INFO:root:Time 4.0\n",
      "INFO:root:Continuing download for packet 4 on car from0.0 with antenna 0 latest progress: 0.03\n",
      "INFO:root:Time 5.0\n",
      "INFO:root:Continuing download for packet 4 on car from0.0 with antenna 0 latest progress: 0.04\n",
      "INFO:root:Time 6.0\n",
      "INFO:root:Continuing download for packet 4 on car from0.0 with antenna 0 latest progress: 0.05\n",
      "INFO:root:Time 7.0\n",
      "INFO:root:Continuing download for packet 4 on car from0.0 with antenna 0 latest progress: 0.060000000000000005\n",
      "INFO:root:Time 8.0\n",
      "INFO:root:Continuing download for packet 4 on car from0.0 with antenna 0 latest progress: 0.07\n",
      "INFO:root:Time 9.0\n",
      "INFO:root:Continuing download for packet 4 on car from0.0 with antenna 0 latest progress: 0.08\n",
      "INFO:root:Time 10.0\n",
      "INFO:root:Continuing download for packet 4 on car from0.0 with antenna 0 latest progress: 0.09\n",
      "INFO:root:Time 11.0\n",
      "INFO:root:Continuing download for packet 4 on car from0.0 with antenna 0 latest progress: 0.09999999999999999\n",
      "INFO:root:Time 12.0\n",
      "INFO:root:Continuing download for packet 4 on car from0.0 with antenna 0 latest progress: 0.10999999999999999\n",
      "INFO:root:Time 13.0\n",
      "INFO:root:Continuing download for packet 4 on car from0.0 with antenna 0 latest progress: 0.11999999999999998\n",
      "INFO:root:Time 14.0\n",
      "INFO:root:Continuing download for packet 4 on car from0.0 with antenna 0 latest progress: 0.12999999999999998\n",
      "INFO:root:Time 15.0\n",
      "INFO:root:Continuing download for packet 4 on car from0.0 with antenna 0 latest progress: 0.13999999999999999\n",
      "INFO:root:Time 16.0\n",
      "INFO:root:Continuing download for packet 4 on car from0.0 with antenna 0 latest progress: 0.15\n",
      "INFO:root:Time 17.0\n",
      "INFO:root:Continuing download for packet 4 on car from0.0 with antenna 0 latest progress: 0.16\n",
      "INFO:root:Time 18.0\n",
      "INFO:root:Continuing download for packet 4 on car from0.0 with antenna 0 latest progress: 0.17\n",
      "INFO:root:Time 19.0\n",
      "INFO:root:Stopping download for packet 4 on car from0.0 with antenna 0, last progress : 0.17\n",
      "INFO:root:Time 20.0\n",
      "INFO:root:Time 21.0\n",
      "INFO:root:Time 22.0\n",
      "INFO:root:Time 23.0\n",
      "INFO:root:Time 24.0\n",
      "INFO:root:Time 25.0\n",
      "INFO:root:Time 26.0\n",
      "INFO:root:Time 27.0\n",
      "INFO:root:Time 28.0\n",
      "INFO:root:Time 29.0\n",
      "INFO:root:Time 30.0\n",
      "INFO:root:Time 31.0\n",
      "INFO:root:Initiated download for packet 4 on car from0.0 with antenna 0\n",
      "INFO:root:Time 32.0\n",
      "INFO:root:Continuing download for packet 4 on car from0.0 with antenna 0 latest progress: 0.01\n",
      "INFO:root:Time 33.0\n",
      "INFO:root:Continuing download for packet 4 on car from0.0 with antenna 0 latest progress: 0.02\n",
      "INFO:root:Time 34.0\n",
      "INFO:root:Continuing download for packet 4 on car from0.0 with antenna 0 latest progress: 0.03\n",
      "INFO:root:Time 35.0\n",
      "INFO:root:Continuing download for packet 4 on car from0.0 with antenna 0 latest progress: 0.04\n",
      "INFO:root:Time 36.0\n",
      "INFO:root:Continuing download for packet 4 on car from0.0 with antenna 0 latest progress: 0.05\n",
      "INFO:root:Time 37.0\n",
      "INFO:root:Continuing download for packet 4 on car from0.0 with antenna 0 latest progress: 0.060000000000000005\n",
      "INFO:root:Time 38.0\n",
      "INFO:root:Continuing download for packet 4 on car from0.0 with antenna 0 latest progress: 0.07\n",
      "INFO:root:Time 39.0\n",
      "INFO:root:Continuing download for packet 4 on car from0.0 with antenna 0 latest progress: 0.08\n",
      "INFO:root:Time 40.0\n",
      "INFO:root:Continuing download for packet 4 on car from0.0 with antenna 0 latest progress: 0.09\n",
      "INFO:root:Stats : ('from0.0', 0)\n"
     ]
    }
   ],
   "source": [
    "test2()"
   ]
  },
  {
   "cell_type": "markdown",
   "metadata": {},
   "source": [
    "Now that we have tested the simulator thoroughly we will simulate the scenario with all the cars and record the packets download for each car. Also we will copy the packets twice and distribute them evenly among the antennas"
   ]
  },
  {
   "cell_type": "code",
   "execution_count": 180,
   "metadata": {},
   "outputs": [],
   "source": [
    "def simulation():\n",
    "    logging.getLogger().setLevel(logging.WARN)\n",
    "    n = 4 #Four packets and four antennas\n",
    "    bandwith = .65\n",
    "    packets = [Packet(n,10) for i in range(n)]\n",
    "    antennas = []\n",
    "    antennas = [Antenna(i,antenna_coords[i][0],antenna_coords[i][1], ANTENNA_RANGE,[packets[i],packets[len(packets)-1-i]],bandwith) for i in range(n)] \n",
    "    nodes = []\n",
    "    for car in cars:\n",
    "        car_df = car_groups.get_group(car)\n",
    "        node = Node(car_df,packets)\n",
    "        nodes.append(node)\n",
    "    pool = ThreadPool(100) \n",
    "    results = pool.map(lambda node:node.simulate(antennas), nodes)\n",
    "    return results"
   ]
  },
  {
   "cell_type": "code",
   "execution_count": 181,
   "metadata": {},
   "outputs": [],
   "source": [
    "stats = simulation()"
   ]
  },
  {
   "cell_type": "code",
   "execution_count": 128,
   "metadata": {
    "scrolled": false
   },
   "outputs": [],
   "source": [
    "def make_data_frame(stats):\n",
    "    id_,packets_received = [stats[i][0] for i in range(len(stats))],[stats[i][1] for i in range(len(stats))]\n",
    "    d = {\"id\":id_,\"packets_received\":packets_received}\n",
    "    df = pd.DataFrame(data=d)\n",
    "    return df"
   ]
  },
  {
   "cell_type": "code",
   "execution_count": 182,
   "metadata": {
    "scrolled": true
   },
   "outputs": [
    {
     "data": {
      "text/html": [
       "<div>\n",
       "<style scoped>\n",
       "    .dataframe tbody tr th:only-of-type {\n",
       "        vertical-align: middle;\n",
       "    }\n",
       "\n",
       "    .dataframe tbody tr th {\n",
       "        vertical-align: top;\n",
       "    }\n",
       "\n",
       "    .dataframe thead th {\n",
       "        text-align: right;\n",
       "    }\n",
       "</style>\n",
       "<table border=\"1\" class=\"dataframe\">\n",
       "  <thead>\n",
       "    <tr style=\"text-align: right;\">\n",
       "      <th></th>\n",
       "      <th>id</th>\n",
       "      <th>packets_received</th>\n",
       "    </tr>\n",
       "  </thead>\n",
       "  <tbody>\n",
       "    <tr>\n",
       "      <th>0</th>\n",
       "      <td>from0.0</td>\n",
       "      <td>3</td>\n",
       "    </tr>\n",
       "    <tr>\n",
       "      <th>1</th>\n",
       "      <td>from1.0</td>\n",
       "      <td>3</td>\n",
       "    </tr>\n",
       "    <tr>\n",
       "      <th>2</th>\n",
       "      <td>from2.0</td>\n",
       "      <td>3</td>\n",
       "    </tr>\n",
       "    <tr>\n",
       "      <th>3</th>\n",
       "      <td>from3.0</td>\n",
       "      <td>3</td>\n",
       "    </tr>\n",
       "    <tr>\n",
       "      <th>4</th>\n",
       "      <td>from0.1</td>\n",
       "      <td>3</td>\n",
       "    </tr>\n",
       "  </tbody>\n",
       "</table>\n",
       "</div>"
      ],
      "text/plain": [
       "        id  packets_received\n",
       "0  from0.0                 3\n",
       "1  from1.0                 3\n",
       "2  from2.0                 3\n",
       "3  from3.0                 3\n",
       "4  from0.1                 3"
      ]
     },
     "execution_count": 182,
     "metadata": {},
     "output_type": "execute_result"
    }
   ],
   "source": [
    "stats_df = make_data_frame(stats)\n",
    "stats_df.head()"
   ]
  },
  {
   "cell_type": "code",
   "execution_count": 183,
   "metadata": {},
   "outputs": [
    {
     "data": {
      "text/plain": [
       "(array([ 79.,   0.,   0., 521.,   0.,   0., 929.,   0.,   0., 475.]),\n",
       " array([1. , 1.3, 1.6, 1.9, 2.2, 2.5, 2.8, 3.1, 3.4, 3.7, 4. ]),\n",
       " <a list of 10 Patch objects>)"
      ]
     },
     "execution_count": 183,
     "metadata": {},
     "output_type": "execute_result"
    },
    {
     "data": {
      "image/png": "[encoded data removed]",
      "text/plain": [
       "<Figure size 432x288 with 1 Axes>"
      ]
     },
     "metadata": {
      "needs_background": "light"
     },
     "output_type": "display_data"
    }
   ],
   "source": [
    "plt.hist(stats_df['packets_received'])"
   ]
  }
 ],
 "metadata": {
  "kernelspec": {
   "display_name": "Python 3",
   "language": "python",
   "name": "python3"
  },
  "language_info": {
   "codemirror_mode": {
    "name": "ipython",
    "version": 3
   },
   "file_extension": ".py",
   "mimetype": "text/x-python",
   "name": "python",
   "nbconvert_exporter": "python",
   "pygments_lexer": "ipython3",
   "version": "3.5.2"
  }
 },
 "nbformat": 4,
 "nbformat_minor": 2
}
