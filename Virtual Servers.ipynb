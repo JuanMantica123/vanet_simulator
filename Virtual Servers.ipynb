{
 "cells": [
  {
   "cell_type": "code",
   "execution_count": 21,
   "metadata": {},
   "outputs": [],
   "source": [
    "import pandas as pd\n",
    "import numpy as np\n",
    "from sklearn.cluster import KMeans\n",
    "import matplotlib.pyplot as plt\n",
    "import vanet_tools as vp\n",
    "from scipy.spatial import distance\n",
    "from collections import defaultdict\n",
    "import xml.etree.ElementTree as ET"
   ]
  },
  {
   "cell_type": "code",
   "execution_count": 10,
   "metadata": {
    "scrolled": false
   },
   "outputs": [],
   "source": [
    "pasubio_sumo = pd.read_csv('pasubio.csv',delimiter=';').dropna()"
   ]
  },
  {
   "cell_type": "code",
   "execution_count": 11,
   "metadata": {},
   "outputs": [
    {
     "data": {
      "text/plain": [
       "8776"
      ]
     },
     "execution_count": 11,
     "metadata": {},
     "output_type": "execute_result"
    }
   ],
   "source": [
    "len(set(pasubio_sumo['vehicle_id']))"
   ]
  },
  {
   "cell_type": "code",
   "execution_count": 12,
   "metadata": {
    "scrolled": true
   },
   "outputs": [
    {
     "data": {
      "text/plain": [
       "4604.0"
      ]
     },
     "execution_count": 12,
     "metadata": {},
     "output_type": "execute_result"
    }
   ],
   "source": [
    "pasubio_sumo['timestep_time'].max()"
   ]
  },
  {
   "cell_type": "code",
   "execution_count": 14,
   "metadata": {},
   "outputs": [],
   "source": [
    "coordinates = pasubio_sumo[['vehicle_x','vehicle_y']]"
   ]
  },
  {
   "cell_type": "code",
   "execution_count": 15,
   "metadata": {},
   "outputs": [],
   "source": [
    "MICROCLOUD_RANGE=150\n",
    "NUM_MICROCLOUDS = 10"
   ]
  },
  {
   "cell_type": "code",
   "execution_count": 27,
   "metadata": {},
   "outputs": [],
   "source": [
    "microcloud_coords =vp.create_coords(coordinates,MICROCLOUD_RANGE,NUM_MICROCLOUDS)\n",
    "# microcloud_coords = [[310,1200],[350,420],[920,250],[780,1000],[1400,770]]"
   ]
  },
  {
   "cell_type": "code",
   "execution_count": null,
   "metadata": {},
   "outputs": [],
   "source": [
    "# tree = ET.parse('Bologna_small-0.29.0/pasubio/pasubio_buslanes.net.xml')\n",
    "# root = tree.getroot()"
   ]
  },
  {
   "cell_type": "code",
   "execution_count": null,
   "metadata": {},
   "outputs": [],
   "source": [
    "# microcloud_coords = []\n",
    "# for neighbor in root.iter('junction'):\n",
    "#     attrib = neighbor.attrib\n",
    "#     if attrib.get('type')==\"priority\":\n",
    "#         x,y = neighbor.attrib.get('x'),neighbor.attrib.get('y')\n",
    "#         micro_cloud  = [int(float(x)),int(float(y))]\n",
    "#         microcloud_coords.append(micro_cloud)\n",
    "# microcloud_coords = microcloud_coords[:NUM_MICROCLOUDS]\n",
    "# print(microcloud_coords)"
   ]
  },
  {
   "cell_type": "code",
   "execution_count": 28,
   "metadata": {
    "scrolled": true
   },
   "outputs": [
    {
     "data": {
      "image/png": "[encoded data removed]",
      "text/plain": [
       "<Figure size 432x288 with 1 Axes>"
      ]
     },
     "metadata": {
      "needs_background": "light"
     },
     "output_type": "display_data"
    }
   ],
   "source": [
    "coords_x,coords_y = pasubio_sumo['vehicle_x'],pasubio_sumo['vehicle_y']\n",
    "vp.plot_microclouds(microcloud_coords,MICROCLOUD_RANGE,coords_x,coords_y)"
   ]
  },
  {
   "cell_type": "code",
   "execution_count": 26,
   "metadata": {},
   "outputs": [],
   "source": [
    "vp.store_microcloud_config(microcloud_coords,\"Pasubio_config.csv\")"
   ]
  },
  {
   "cell_type": "code",
   "execution_count": 18,
   "metadata": {},
   "outputs": [],
   "source": [
    "time_col = pasubio_sumo['timestep_time']\n",
    "start,end = int(time_col.min()), int(time_col.max())\n"
   ]
  },
  {
   "cell_type": "code",
   "execution_count": 19,
   "metadata": {},
   "outputs": [],
   "source": [
    "time_steps= pasubio_sumo.groupby('timestep_time')"
   ]
  },
  {
   "cell_type": "markdown",
   "metadata": {},
   "source": [
    "Paremeters that must be established, mininum amount of trafic for microcloud, relation of power to number of cars"
   ]
  },
  {
   "cell_type": "code",
   "execution_count": null,
   "metadata": {},
   "outputs": [],
   "source": [
    "def determine_closest(micro_clouds,x,y):\n",
    "    min_distance = float('inf')\n",
    "    index_of_closest = -1\n",
    "    for index,micro_cloud in enumerate(micro_clouds):\n",
    "        x_coord,y_coord =  micro_cloud\n",
    "        current_distance = distance.euclidean((x,y),(x_coord,y_coord))\n",
    "        if current_distance<min_distance:\n",
    "            min_distance = current_distance\n",
    "            index_of_closest = index\n",
    "    return index_of_closest\n",
    "            "
   ]
  },
  {
   "cell_type": "code",
   "execution_count": null,
   "metadata": {},
   "outputs": [],
   "source": [
    "cloud_to_power = defaultdict(list)\n",
    "for time in range(start,end+1):\n",
    "    time_step = time_steps.get_group(time)\n",
    "    current_power = [0 for _ in range(len(microcloud_coords))]\n",
    "    for index, row in time_step.iterrows():\n",
    "        x,y = row['vehicle_x'],row['vehicle_y']\n",
    "        index_of_closest =determine_closest(microcloud_coords,x,y)\n",
    "        closest = microcloud_coords[index_of_closest]\n",
    "        if distance.euclidean((closest[0],closest[1]),(x,y))<MICROCLOUD_RANGE:\n",
    "            current_power[index_of_closest]+=1\n",
    "    for index,power in enumerate(current_power):\n",
    "        cloud_to_power[index].append(power)\n",
    "            "
   ]
  },
  {
   "cell_type": "code",
   "execution_count": null,
   "metadata": {},
   "outputs": [],
   "source": [
    "for i in range(len(microcloud_ coords)):\n",
    "    plt.hist(cloud_to_power[i])\n",
    "    plt.show()"
   ]
  },
  {
   "cell_type": "code",
   "execution_count": null,
   "metadata": {},
   "outputs": [],
   "source": [
    "microcloud_range=300"
   ]
  }
 ],
 "metadata": {
  "kernelspec": {
   "display_name": "Python 3",
   "language": "python",
   "name": "python3"
  },
  "language_info": {
   "codemirror_mode": {
    "name": "ipython",
    "version": 3
   },
   "file_extension": ".py",
   "mimetype": "text/x-python",
   "name": "python",
   "nbconvert_exporter": "python",
   "pygments_lexer": "ipython3",
   "version": "3.5.2"
  }
 },
 "nbformat": 4,
 "nbformat_minor": 2
}
