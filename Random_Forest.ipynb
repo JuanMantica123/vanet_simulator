{
 "cells": [
  {
   "cell_type": "code",
   "execution_count": 1,
   "metadata": {},
   "outputs": [],
   "source": [
    "from random import seed\n",
    "from random import randrange\n",
    "from sklearn import datasets\n",
    "from sklearn.metrics import accuracy_score\n",
    "import pandas as pd\n",
    "import numpy as np\n",
    "from sklearn.model_selection import train_test_split\n",
    "from sklearn.tree import DecisionTreeClassifier\n",
    "from sklearn.ensemble import RandomForestClassifier\n",
    "from collections import Counter\n",
    "from sklearn.preprocessing import LabelEncoder\n",
    "import multiprocessing as mp\n",
    "from timeit import default_timer as timer\n",
    "import matplotlib.pyplot as plt\n",
    "from sklearn.linear_model import LinearRegression\n",
    "import numpy as np"
   ]
  },
  {
   "cell_type": "markdown",
   "metadata": {},
   "source": [
    "Random forest version 1"
   ]
  },
  {
   "cell_type": "code",
   "execution_count": 2,
   "metadata": {},
   "outputs": [],
   "source": [
    "class Tree:\n",
    "    def __init__(self):\n",
    "        pass\n",
    "    \n",
    "    def fit(self,features,X,y):\n",
    "        self.features = features\n",
    "        tree_x = X[:,features]\n",
    "        self.clf = DecisionTreeClassifier()\n",
    "        self.clf.fit(tree_x,y)\n",
    "    \n",
    "    def predict(self,X):\n",
    "        tree_x = X[:,self.features]\n",
    "        predictions = self.clf.predict(tree_x)\n",
    "        return predictions"
   ]
  },
  {
   "cell_type": "code",
   "execution_count": 3,
   "metadata": {},
   "outputs": [],
   "source": [
    "class RandomForest:\n",
    "    \n",
    "    def __init__(self,number_trees,sample_fraction=1):\n",
    "        self.number_trees = number_trees\n",
    "        self.sample_fraction = sample_fraction\n",
    "    \n",
    "    def fit(self,X,y):\n",
    "        trees = []\n",
    "        n_features = int(np.sqrt(len(X[0])))\n",
    "        n_samples = len(X)*self.sample_fraction\n",
    "        for _ in range(self.number_trees):\n",
    "            features = np.random.choice(len(X[0]), n_features,replace=False)\n",
    "            samples = np.random.choice(len(X),n_samples,replace=False)\n",
    "            tree_y,tree_x = y[samples], X[samples]\n",
    "            tree = Tree ()\n",
    "            tree.fit(features,tree_x,tree_y)\n",
    "            trees.append(tree)\n",
    "        self.trees = trees\n",
    "    \n",
    "    def predict(self,X):\n",
    "        prediction_matrix = [[] for _ in range(len(X))]\n",
    "        for tree in self.trees:\n",
    "            predictions = tree.predict(X)\n",
    "            for curr,all_ in zip(predictions,prediction_matrix):\n",
    "                all_.append(curr)\n",
    "        final_predictions = []\n",
    "        for row in prediction_matrix:\n",
    "            counter = Counter(row)\n",
    "            prediction = counter.most_common(1)[0][0]\n",
    "            final_predictions.append(prediction)\n",
    "        return final_predictions\n",
    "        "
   ]
  },
  {
   "cell_type": "code",
   "execution_count": 5,
   "metadata": {},
   "outputs": [],
   "source": [
    "iris = datasets.load_iris()"
   ]
  },
  {
   "cell_type": "code",
   "execution_count": 5,
   "metadata": {},
   "outputs": [],
   "source": [
    "rf = RandomForest(10000)"
   ]
  },
  {
   "cell_type": "code",
   "execution_count": 6,
   "metadata": {},
   "outputs": [],
   "source": [
    "X_train, X_test, y_train, y_test = train_test_split(iris.data,iris.target)"
   ]
  },
  {
   "cell_type": "code",
   "execution_count": 10,
   "metadata": {},
   "outputs": [],
   "source": [
    "rf.fit(X_train,y_train)"
   ]
  },
  {
   "cell_type": "code",
   "execution_count": 11,
   "metadata": {
    "scrolled": true
   },
   "outputs": [
    {
     "data": {
      "text/plain": [
       "0.8947368421052632"
      ]
     },
     "execution_count": 11,
     "metadata": {},
     "output_type": "execute_result"
    }
   ],
   "source": [
    "preds= rf.predict(X_test)\n",
    "accuracy_score(preds,y_test)"
   ]
  },
  {
   "cell_type": "code",
   "execution_count": 14,
   "metadata": {
    "scrolled": true
   },
   "outputs": [
    {
     "name": "stderr",
     "output_type": "stream",
     "text": [
      "/usr/local/lib/python3.5/dist-packages/sklearn/ensemble/forest.py:248: FutureWarning: The default value of n_estimators will change from 10 in version 0.20 to 100 in 0.22.\n",
      "  \"10 in version 0.20 to 100 in 0.22.\", FutureWarning)\n"
     ]
    }
   ],
   "source": [
    "sklearn_rf = RandomForestClassifier()\n",
    "sklearn_rf.fit(X_train,y_train)\n",
    "sklearn_preds = sklearn_rf.predict(X_test)"
   ]
  },
  {
   "cell_type": "code",
   "execution_count": 15,
   "metadata": {
    "scrolled": false
   },
   "outputs": [
    {
     "data": {
      "text/plain": [
       "0.868421052631579"
      ]
     },
     "execution_count": 15,
     "metadata": {},
     "output_type": "execute_result"
    }
   ],
   "source": [
    "accuracy_score(sklearn_preds,y_test)"
   ]
  },
  {
   "cell_type": "code",
   "execution_count": 3,
   "metadata": {},
   "outputs": [
    {
     "data": {
      "text/plain": [
       "8"
      ]
     },
     "execution_count": 3,
     "metadata": {},
     "output_type": "execute_result"
    }
   ],
   "source": [
    "max_workers = mp.cpu_count()  \n",
    "max_workers"
   ]
  },
  {
   "cell_type": "code",
   "execution_count": 66,
   "metadata": {},
   "outputs": [],
   "source": [
    "n_features_iris = int(np.sqrt(len(iris.data[0])))\n",
    "n_trees_iris = 10000"
   ]
  },
  {
   "cell_type": "code",
   "execution_count": 67,
   "metadata": {},
   "outputs": [],
   "source": [
    "def fit_tree_iris(tree):\n",
    "    features = np.random.choice(len(iris.data[0]), n_features_iris,replace=False)\n",
    "    tree.fit(features,iris.data,iris.target)\n",
    "    return tree"
   ]
  },
  {
   "cell_type": "code",
   "execution_count": 68,
   "metadata": {},
   "outputs": [],
   "source": [
    "def get_workers_to_time(fit_tree,num_trees=10,max_workers=8):\n",
    "    workers = []\n",
    "    times = []\n",
    "    trees = [Tree() for _ in range(num_trees)]\n",
    "    for num_workers in range(1,max_workers+1):\n",
    "        workers.append(num_workers)\n",
    "        pool = mp.Pool(num_workers)\n",
    "        start = timer()\n",
    "        pool.map(fit_tree,trees)\n",
    "        end = timer()\n",
    "        time = end - start\n",
    "        times.append(time)\n",
    "        pool.close()\n",
    "        pool.join()\n",
    "    return workers,times"
   ]
  },
  {
   "cell_type": "code",
   "execution_count": 69,
   "metadata": {},
   "outputs": [],
   "source": [
    "workers,times = get_workers_to_time(fit_tree_iris,num_trees=n_trees_iris)"
   ]
  },
  {
   "cell_type": "code",
   "execution_count": 64,
   "metadata": {},
   "outputs": [],
   "source": [
    "def plt_results(workers,times,name,num_trees):\n",
    "    plt.plot(workers,times)\n",
    "    plt.xlabel(\"Number of Workers\")\n",
    "    plt.ylabel(\"Time in seconds\")\n",
    "    plt.title(\"Time to train {} trees on the {} dataset\".format(num_trees,name))\n",
    "    plt.show()"
   ]
  },
  {
   "cell_type": "code",
   "execution_count": 65,
   "metadata": {},
   "outputs": [
    {
     "data": {
      "image/png": "[encoded data removed]",
      "text/plain": [
       "<Figure size 432x288 with 1 Axes>"
      ]
     },
     "metadata": {
      "needs_background": "light"
     },
     "output_type": "display_data"
    }
   ],
   "source": [
    "plt_results(workers,times,\"iris\",n_trees_iris)"
   ]
  },
  {
   "cell_type": "code",
   "execution_count": 47,
   "metadata": {},
   "outputs": [],
   "source": [
    "breast = datasets.load_breast_cancer()"
   ]
  },
  {
   "cell_type": "code",
   "execution_count": 92,
   "metadata": {},
   "outputs": [],
   "source": [
    "num_trees_breast = 50\n",
    "n_features_breast = int(np.sqrt(len(breast.data[0])))"
   ]
  },
  {
   "cell_type": "code",
   "execution_count": 93,
   "metadata": {},
   "outputs": [],
   "source": [
    "def fit_tree_breast(tree):\n",
    "    features = np.random.choice(len(breast.data[0]), n_features_breast,replace=False)\n",
    "    tree.fit(features,breast.data,breast.target)\n",
    "    return tree"
   ]
  },
  {
   "cell_type": "code",
   "execution_count": 94,
   "metadata": {},
   "outputs": [],
   "source": [
    "workers_breast,times_breast = get_workers_to_time(fit_tree_breast,num_trees=num_trees_breast)"
   ]
  },
  {
   "cell_type": "code",
   "execution_count": 95,
   "metadata": {
    "scrolled": false
   },
   "outputs": [
    {
     "data": {
      "image/png": "[encoded data removed]",
      "text/plain": [
       "<Figure size 432x288 with 1 Axes>"
      ]
     },
     "metadata": {
      "needs_background": "light"
     },
     "output_type": "display_data"
    }
   ],
   "source": [
    "plt_results(workers_breast,times_breast,\"breast cancer\",num_trees_breast)"
   ]
  },
  {
   "cell_type": "code",
   "execution_count": 85,
   "metadata": {},
   "outputs": [],
   "source": [
    "digits = datasets.load_digits()"
   ]
  },
  {
   "cell_type": "code",
   "execution_count": 86,
   "metadata": {},
   "outputs": [],
   "source": [
    "num_trees_digits = 16\n",
    "n_features_digits = int(np.sqrt(len(digits.data[0])))"
   ]
  },
  {
   "cell_type": "code",
   "execution_count": 89,
   "metadata": {},
   "outputs": [],
   "source": [
    "def fit_tree_digits(tree):\n",
    "    features = np.random.choice(len(digits.data[0]), n_features_digits,replace=False)\n",
    "    tree.fit(features,digits.data,digits.target)\n",
    "    return tree"
   ]
  },
  {
   "cell_type": "code",
   "execution_count": 90,
   "metadata": {},
   "outputs": [],
   "source": [
    "workers_digits,times_digits = get_workers_to_time(fit_tree_digits,num_trees=num_trees_digits)"
   ]
  },
  {
   "cell_type": "code",
   "execution_count": 91,
   "metadata": {
    "scrolled": true
   },
   "outputs": [
    {
     "data": {
      "image/png": "[encoded data removed]",
      "text/plain": [
       "<Figure size 432x288 with 1 Axes>"
      ]
     },
     "metadata": {
      "needs_background": "light"
     },
     "output_type": "display_data"
    }
   ],
   "source": [
    "plt_results(workers_digits,times_digits,\"digits\",num_trees_digits)"
   ]
  },
  {
   "cell_type": "code",
   "execution_count": 96,
   "metadata": {},
   "outputs": [],
   "source": [
    "human_activity_df = pd.read_csv(\"Final_training.csv\").drop('Unnamed: 0',1)"
   ]
  },
  {
   "cell_type": "code",
   "execution_count": 102,
   "metadata": {},
   "outputs": [],
   "source": [
    "human_activity_x = human_activity_df.drop(\"label\", 1).values\n",
    "human_activity_y = human_activity_df[\"label\"].values"
   ]
  },
  {
   "cell_type": "code",
   "execution_count": 103,
   "metadata": {},
   "outputs": [],
   "source": [
    "num_trees_human = 16\n",
    "n_features_human = int(np.sqrt(len(human_activity_x[0])))"
   ]
  },
  {
   "cell_type": "code",
   "execution_count": 104,
   "metadata": {},
   "outputs": [],
   "source": [
    "def fit_tree_human(tree):\n",
    "    features = np.random.choice(len(human_activity_x[0]), n_features_digits,replace=False)\n",
    "    tree.fit(features,human_activity_x,human_activity_y)\n",
    "    return tree"
   ]
  },
  {
   "cell_type": "code",
   "execution_count": 105,
   "metadata": {},
   "outputs": [],
   "source": [
    "workers_human,times_human = get_workers_to_time(fit_tree_human,num_trees=num_trees_human)"
   ]
  },
  {
   "cell_type": "code",
   "execution_count": 107,
   "metadata": {},
   "outputs": [
    {
     "data": {
      "image/png": "[encoded data removed]",
      "text/plain": [
       "<Figure size 432x288 with 1 Axes>"
      ]
     },
     "metadata": {
      "needs_background": "light"
     },
     "output_type": "display_data"
    }
   ],
   "source": [
    "plt_results(workers_human,times_human,\"Human activity\",num_trees_human)"
   ]
  },
  {
   "cell_type": "code",
   "execution_count": 40,
   "metadata": {
    "scrolled": true
   },
   "outputs": [],
   "source": [
    "workers_matrix = np.asmatrix([workers]).T"
   ]
  },
  {
   "cell_type": "code",
   "execution_count": 32,
   "metadata": {
    "scrolled": true
   },
   "outputs": [],
   "source": [
    "reg = LinearRegression()"
   ]
  },
  {
   "cell_type": "code",
   "execution_count": 41,
   "metadata": {},
   "outputs": [
    {
     "data": {
      "text/plain": [
       "LinearRegression(copy_X=True, fit_intercept=True, n_jobs=None,\n",
       "         normalize=False)"
      ]
     },
     "execution_count": 41,
     "metadata": {},
     "output_type": "execute_result"
    }
   ],
   "source": [
    "reg.fit(workers_matrix,times)"
   ]
  },
  {
   "cell_type": "code",
   "execution_count": 44,
   "metadata": {},
   "outputs": [
    {
     "data": {
      "text/plain": [
       "array([-1.52133256])"
      ]
     },
     "execution_count": 44,
     "metadata": {},
     "output_type": "execute_result"
    }
   ],
   "source": [
    "reg.score(workers_matrix,times)\n",
    "reg.coef_"
   ]
  }
 ],
 "metadata": {
  "kernelspec": {
   "display_name": "Python 3",
   "language": "python",
   "name": "python3"
  },
  "language_info": {
   "codemirror_mode": {
    "name": "ipython",
    "version": 3
   },
   "file_extension": ".py",
   "mimetype": "text/x-python",
   "name": "python",
   "nbconvert_exporter": "python",
   "pygments_lexer": "ipython3",
   "version": "3.5.2"
  }
 },
 "nbformat": 4,
 "nbformat_minor": 2
}
