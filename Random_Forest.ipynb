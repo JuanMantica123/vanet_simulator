{
 "cells": [
  {
   "cell_type": "code",
   "execution_count": 19,
   "metadata": {},
   "outputs": [],
   "source": [
    "from random import seed\n",
    "from random import randrange\n",
    "from sklearn import datasets\n",
    "from sklearn.metrics import accuracy_score\n",
    "import pandas as pd\n",
    "import numpy as np\n",
    "from sklearn.model_selection import train_test_split\n",
    "from sklearn.tree import DecisionTreeClassifier\n",
    "from sklearn.ensemble import RandomForestClassifier\n",
    "from collections import Counter\n",
    "from sklearn.preprocessing import LabelEncoder\n",
    "import multiprocessing as mp\n",
    "from timeit import default_timer as timer\n",
    "import matplotlib.pyplot as plt\n",
    "from sklearn.linear_model import LinearRegression\n",
    "import numpy as np"
   ]
  },
  {
   "cell_type": "markdown",
   "metadata": {},
   "source": [
    "Random forest version 1"
   ]
  },
  {
   "cell_type": "code",
   "execution_count": 2,
   "metadata": {},
   "outputs": [],
   "source": [
    "class Tree:\n",
    "    def __init__(self):\n",
    "        pass\n",
    "    \n",
    "    def fit(self,features,X,y):\n",
    "        self.features = features\n",
    "        tree_x = X[:,features]\n",
    "        self.clf = DecisionTreeClassifier()\n",
    "        self.clf.fit(tree_x,y)\n",
    "    \n",
    "    def predict(self,X):\n",
    "        tree_x = X[:,self.features]\n",
    "        predictions = self.clf.predict(tree_x)\n",
    "        return predictions"
   ]
  },
  {
   "cell_type": "code",
   "execution_count": 3,
   "metadata": {},
   "outputs": [],
   "source": [
    "class RandomForest:\n",
    "    \n",
    "    def __init__(self,number_trees,sample_fraction=1):\n",
    "        self.number_trees = number_trees\n",
    "        self.sample_fraction = sample_fraction\n",
    "    \n",
    "    def fit(self,X,y):\n",
    "        trees = []\n",
    "        n_features = int(np.sqrt(len(X[0])))\n",
    "        n_samples = len(X)*self.sample_fraction\n",
    "        for _ in range(self.number_trees):\n",
    "            features = np.random.choice(len(X[0]), n_features,replace=False)\n",
    "            samples = np.random.choice(len(X),n_samples,replace=False)\n",
    "            tree_y,tree_x = y[samples], X[samples]\n",
    "            tree = Tree ()\n",
    "            tree.fit(features,tree_x,tree_y)\n",
    "            trees.append(tree)\n",
    "        self.trees = trees\n",
    "    \n",
    "    def predict(self,X):\n",
    "        prediction_matrix = [[] for _ in range(len(X))]\n",
    "        for tree in self.trees:\n",
    "            predictions = tree.predict(X)\n",
    "            for curr,all_ in zip(predictions,prediction_matrix):\n",
    "                all_.append(curr)\n",
    "        final_predictions = []\n",
    "        for row in prediction_matrix:\n",
    "            counter = Counter(row)\n",
    "            prediction = counter.most_common(1)[0][0]\n",
    "            final_predictions.append(prediction)\n",
    "        return final_predictions\n",
    "        "
   ]
  },
  {
   "cell_type": "code",
   "execution_count": 8,
   "metadata": {},
   "outputs": [],
   "source": [
    "iris = datasets.load_iris()"
   ]
  },
  {
   "cell_type": "code",
   "execution_count": 5,
   "metadata": {},
   "outputs": [],
   "source": [
    "rf = RandomForest(10000)"
   ]
  },
  {
   "cell_type": "code",
   "execution_count": 6,
   "metadata": {},
   "outputs": [],
   "source": [
    "X_train, X_test, y_train, y_test = train_test_split(iris.data,iris.target)"
   ]
  },
  {
   "cell_type": "code",
   "execution_count": 10,
   "metadata": {},
   "outputs": [],
   "source": [
    "rf.fit(X_train,y_train)"
   ]
  },
  {
   "cell_type": "code",
   "execution_count": 11,
   "metadata": {
    "scrolled": true
   },
   "outputs": [
    {
     "data": {
      "text/plain": [
       "0.8947368421052632"
      ]
     },
     "execution_count": 11,
     "metadata": {},
     "output_type": "execute_result"
    }
   ],
   "source": [
    "preds= rf.predict(X_test)\n",
    "accuracy_score(preds,y_test)"
   ]
  },
  {
   "cell_type": "code",
   "execution_count": 14,
   "metadata": {
    "scrolled": true
   },
   "outputs": [
    {
     "name": "stderr",
     "output_type": "stream",
     "text": [
      "/usr/local/lib/python3.5/dist-packages/sklearn/ensemble/forest.py:248: FutureWarning: The default value of n_estimators will change from 10 in version 0.20 to 100 in 0.22.\n",
      "  \"10 in version 0.20 to 100 in 0.22.\", FutureWarning)\n"
     ]
    }
   ],
   "source": [
    "sklearn_rf = RandomForestClassifier()\n",
    "sklearn_rf.fit(X_train,y_train)\n",
    "sklearn_preds = sklearn_rf.predict(X_test)"
   ]
  },
  {
   "cell_type": "code",
   "execution_count": 15,
   "metadata": {
    "scrolled": false
   },
   "outputs": [
    {
     "data": {
      "text/plain": [
       "0.868421052631579"
      ]
     },
     "execution_count": 15,
     "metadata": {},
     "output_type": "execute_result"
    }
   ],
   "source": [
    "accuracy_score(sklearn_preds,y_test)"
   ]
  },
  {
   "cell_type": "code",
   "execution_count": 7,
   "metadata": {},
   "outputs": [
    {
     "data": {
      "text/plain": [
       "8"
      ]
     },
     "execution_count": 7,
     "metadata": {},
     "output_type": "execute_result"
    }
   ],
   "source": [
    "max_workers = mp.cpu_count()  \n",
    "max_workers"
   ]
  },
  {
   "cell_type": "code",
   "execution_count": 9,
   "metadata": {},
   "outputs": [],
   "source": [
    "num_trees = 50000\n",
    "n_features = int(np.sqrt(len(iris.data[0])))\n",
    "trees = [Tree() for _ in range(num_trees)]"
   ]
  },
  {
   "cell_type": "code",
   "execution_count": 10,
   "metadata": {},
   "outputs": [],
   "source": [
    "def fit_tree(tree):\n",
    "    features = np.random.choice(len(iris.data[0]), n_features,replace=False)\n",
    "    tree.fit(features,iris.data,iris.target)\n",
    "    return tree"
   ]
  },
  {
   "cell_type": "code",
   "execution_count": 27,
   "metadata": {},
   "outputs": [],
   "source": [
    "workers = []\n",
    "times = []\n",
    "for num_workers in range(1,max_workers+1):\n",
    "    workers.append(num_workers)\n",
    "    pool = mp.Pool(num_workers)\n",
    "    start = timer()\n",
    "    pool.map(fit_tree,trees)\n",
    "    end = timer()\n",
    "    time = end - start\n",
    "    times.append(time)\n",
    "    pool.close()\n",
    "    pool.join()"
   ]
  },
  {
   "cell_type": "code",
   "execution_count": 12,
   "metadata": {},
   "outputs": [
    {
     "data": {
      "image/png": "[encoded data removed]",
      "text/plain": [
       "<Figure size 432x288 with 1 Axes>"
      ]
     },
     "metadata": {
      "needs_background": "light"
     },
     "output_type": "display_data"
    }
   ],
   "source": [
    "plt.plot(workers,times)\n",
    "plt.xlabel(\"Number of Workers\")\n",
    "plt.ylabel(\"Time\")\n",
    "plt.title(\"Time to train {} trees on the iris dataset\".format(num_trees))\n",
    "plt.show()"
   ]
  },
  {
   "cell_type": "code",
   "execution_count": 192,
   "metadata": {},
   "outputs": [],
   "source": [
    "breast = datasets.load_breast_cancer()"
   ]
  },
  {
   "cell_type": "code",
   "execution_count": 203,
   "metadata": {},
   "outputs": [],
   "source": [
    "num_trees_breast = 8\n",
    "n_features_breast = int(np.sqrt(len(breast.data[0])))\n",
    "trees_breast = [Tree() for _ in range(num_trees_breast)]"
   ]
  },
  {
   "cell_type": "code",
   "execution_count": 204,
   "metadata": {},
   "outputs": [],
   "source": [
    "def fit_tree_breast(tree):\n",
    "    features = np.random.choice(len(breast.data[0]), n_features_breast,replace=False)\n",
    "    tree.fit(features,breast.data,breast.target)\n",
    "    return tree"
   ]
  },
  {
   "cell_type": "code",
   "execution_count": null,
   "metadata": {},
   "outputs": [],
   "source": [
    "breast_workers = []\n",
    "breast_times = []\n",
    "for num_workers in range(1,max_workers+1):\n",
    "    breast_workers.append(num_workers)\n",
    "    pool = mp.Pool(num_workers)\n",
    "    start = timer()\n",
    "    pool.map(fit_tree_breast,trees)\n",
    "    end = timer()\n",
    "    time = end - start\n",
    "    breast_times.append(time)\n",
    "    pool.close()\n",
    "    pool.join()"
   ]
  },
  {
   "cell_type": "code",
   "execution_count": 208,
   "metadata": {
    "scrolled": true
   },
   "outputs": [
    {
     "data": {
      "image/png": "[encoded data removed]",
      "text/plain": [
       "<Figure size 432x288 with 1 Axes>"
      ]
     },
     "metadata": {
      "needs_background": "light"
     },
     "output_type": "display_data"
    }
   ],
   "source": [
    "plt.plot(breast_workers,breast_times)\n",
    "plt.xlabel(\"Number of Workers\")\n",
    "plt.ylabel(\"Time\")\n",
    "plt.title(\"Time to train {} trees on the breast cancer dataset\".format(num_trees_breast))\n",
    "plt.show()"
   ]
  },
  {
   "cell_type": "code",
   "execution_count": 40,
   "metadata": {
    "scrolled": true
   },
   "outputs": [],
   "source": [
    "workers_matrix = np.asmatrix([workers]).T"
   ]
  },
  {
   "cell_type": "code",
   "execution_count": 32,
   "metadata": {
    "scrolled": true
   },
   "outputs": [],
   "source": [
    "reg = LinearRegression()"
   ]
  },
  {
   "cell_type": "code",
   "execution_count": 41,
   "metadata": {},
   "outputs": [
    {
     "data": {
      "text/plain": [
       "LinearRegression(copy_X=True, fit_intercept=True, n_jobs=None,\n",
       "         normalize=False)"
      ]
     },
     "execution_count": 41,
     "metadata": {},
     "output_type": "execute_result"
    }
   ],
   "source": [
    "reg.fit(workers_matrix,times)"
   ]
  },
  {
   "cell_type": "code",
   "execution_count": 43,
   "metadata": {},
   "outputs": [
    {
     "data": {
      "text/plain": [
       "0.625981798487746"
      ]
     },
     "execution_count": 43,
     "metadata": {},
     "output_type": "execute_result"
    }
   ],
   "source": [
    "reg.score(workers_matrix,times)"
   ]
  }
 ],
 "metadata": {
  "kernelspec": {
   "display_name": "Python 3",
   "language": "python",
   "name": "python3"
  },
  "language_info": {
   "codemirror_mode": {
    "name": "ipython",
    "version": 3
   },
   "file_extension": ".py",
   "mimetype": "text/x-python",
   "name": "python",
   "nbconvert_exporter": "python",
   "pygments_lexer": "ipython3",
   "version": "3.5.2"
  }
 },
 "nbformat": 4,
 "nbformat_minor": 2
}
